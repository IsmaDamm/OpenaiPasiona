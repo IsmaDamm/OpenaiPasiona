{
 "cells": [
  {
   "cell_type": "code",
   "execution_count": 3,
   "metadata": {},
   "outputs": [],
   "source": [
    "from langchain.document_loaders import PyPDFLoader\n",
    "from langchain.text_splitter import CharacterTextSplitter"
   ]
  },
  {
   "cell_type": "code",
   "execution_count": 4,
   "metadata": {},
   "outputs": [],
   "source": [
    "loader = PyPDFLoader(\"./isma_merged.pdf\")"
   ]
  },
  {
   "cell_type": "code",
   "execution_count": 5,
   "metadata": {},
   "outputs": [],
   "source": [
    "data = loader.load_and_split()"
   ]
  },
  {
   "cell_type": "code",
   "execution_count": 4,
   "metadata": {},
   "outputs": [
    {
     "data": {
      "text/plain": [
       "'DANIEL\\nMARTÍNEZ \\n \\n \\n \\nPERFIL CONTACTO\\nMe gusta mucho el mundo de la informática, siempre que\\ntengo un problema intento solucionarlo, gracias a la \\nayuda de internet, he podido solucionar muchos de los \\nproblemas que he tenido y siempre tengo lugar para \\naprender cosas nuevas.\\n+34 674 82 50 24\\ndanimartinezortin@gmail.com\\n \\nSant Feliu de Llobregat, C/Constitució nº38, \\n4º 2ª IZQ\\nFecha de nacimiento\\n18/09/2002\\nEXPERIENCIA FORMACIÓN\\nNexTReT\\n2019-2020\\nHelpDesk como Servicio de Atención al UsuarioResolver \\nlas incidencias entrantes mediante la herramienta \\nFreshDesk, al igual que gestionar cualquier tipo de \\nsolicitud.CFGS - Desarrolo de Aplicaciones \\nWeb\\n2021-2022\\nActualmente cursando Desarrollo de \\nAplicaciones Web (San Adrián del \\nBesós – Institut Manuel Vázquez \\nMontalbán)\\nCFGM - Sistemas \\nMicroinformáticos y Redes\\n2018-2020\\nCursado Sistemas Microinformáticos \\ny Redes. (San Adrián del Besós – \\nInstitut Manuel Vázquez Montalbán)IDIOMAS\\nCastellano – Nativo\\nCatalán – Nativo\\nInglés – B1CONOCIMIENTOS\\n \\nBases de datos\\n Sistemas Informáticos'"
      ]
     },
     "execution_count": 4,
     "metadata": {},
     "output_type": "execute_result"
    }
   ],
   "source": [
    "data[0].page_content"
   ]
  },
  {
   "cell_type": "code",
   "execution_count": null,
   "metadata": {},
   "outputs": [],
   "source": []
  }
 ],
 "metadata": {
  "kernelspec": {
   "display_name": "Python 3",
   "language": "python",
   "name": "python3"
  },
  "language_info": {
   "codemirror_mode": {
    "name": "ipython",
    "version": 3
   },
   "file_extension": ".py",
   "mimetype": "text/x-python",
   "name": "python",
   "nbconvert_exporter": "python",
   "pygments_lexer": "ipython3",
   "version": "3.10.11"
  },
  "orig_nbformat": 4
 },
 "nbformat": 4,
 "nbformat_minor": 2
}
