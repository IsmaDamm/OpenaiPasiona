{
 "cells": [
  {
   "cell_type": "code",
   "execution_count": 27,
   "metadata": {},
   "outputs": [],
   "source": [
    "from langchain.document_loaders import PyPDFLoader, OnlinePDFLoader\n",
    "from langchain.text_splitter import RecursiveCharacterTextSplitter"
   ]
  },
  {
   "cell_type": "code",
   "execution_count": 28,
   "metadata": {},
   "outputs": [],
   "source": [
    "loader = PyPDFLoader(\"./isma_merged_2.pdf\")"
   ]
  },
  {
   "cell_type": "code",
   "execution_count": 29,
   "metadata": {},
   "outputs": [],
   "source": [
    "data = loader.load()"
   ]
  },
  {
   "cell_type": "code",
   "execution_count": 37,
   "metadata": {},
   "outputs": [
    {
     "name": "stdout",
     "output_type": "stream",
     "text": [
      "Hay 11 documentos\n",
      "Hay 4213 caracteres en el documento\n"
     ]
    }
   ],
   "source": [
    "print (f'Hay {len(data)} documentos')\n",
    "print (f'Hay {len(data[0].page_content)} caracteres en el documento')"
   ]
  },
  {
   "cell_type": "markdown",
   "metadata": {},
   "source": []
  },
  {
   "cell_type": "code",
   "execution_count": 47,
   "metadata": {},
   "outputs": [
    {
     "name": "stdout",
     "output_type": "stream",
     "text": [
      "Pagina 1: Experiencia Formación C F G S  D e s a r r o l l o  d e  A p l i c a c i o n e s  M u l t i p l a t a f o r m a  ( D A M ) B a c h i l l e r a t o  C i e n t í f i c o  T e c n o l ó g i c oJunio 2023 Septiembre 2021A c t u a l m e n t e  c u r s a n d o  e n  E s c o l a  P i a I E S  E l s  T r e s  T u r o n sDaniel García Serrano Idiomas InteresesE s p a ñ o l   T e c n o l o g í a T e n d e n c i a s D e p o r t eConocimientos P H P ´ /  L a r a v e l P y t h o n C #  /  . N E T  C o r e J a v a S c r i p t ,  H T M L y  C S S S Q LPERSONAL Nombre D a n i e l  G a r c í a  S e r r a n o Dirección C \\  C a m í  C a n  Q u i n t a n a 0 8 3 5 0 ,  A r e n y s  d e  M a r Número de teléfono + 3 4  6 4 0  2 4  6 9  2 0 Correo electrónico d a n i i e e l g s @ g m a i l . c o m Fecha de nacimiento 0 9 / 0 9 / 2 0 0 3 Género H o m b r e Nacionalidad E s p a ñ o l Permiso de conducir B Github h t t p s : / / g i t h u b . c o m / d a n i i e e l g s ? t a b = r e p o s i t o r i e s Linkedln h t t p s : / / w w w . l i n k e d i n . c o m / i n / d a n i e l - g a r c i a - 0 a 9 2 0 9 2 3 6 / Página WEB h t t p : / / d a n i i e e l g s . d d n s . n e t / N a t i v o C a t a l á n N a t i v o I n g l é sE s t u d i a n t e  d e  t é c n i c o  s u p e r i o r  d e  d e s a r r o l l o  d e  a p l i c a c i o n e s  m u l t i p l a t a f o r m a ,  c o n  a m p l i o s c o n o c i m i e n t o s  e n  d i s t i n t a s  t e c n o l o g í a s  y  l e n g u a j e s ,  d e s a r r o l l a d o s  a  t r a v é s  d e  p r o y e c t o s  p r o p i o s r e a l i z a d o s  d e  m a n e r a  autodidacta . L l e v o  a p r e n d i e n d o  d e s a r r o l l o  f r o n t e n t  y  b a c k e n d ,  d e s d e  l o s  1 2  a ñ o s .  D e s d e  e n t o n c e s  h e  a d q u i r i d o c o n o c i m i e n t o s  e n  J a v a ,  P y t h o n ,  J a v a S c r i p t ,  P H P ,  S Q L ,  H T M L ,  C S S ,  b a s h  y  s i s t e m a s ,  a u n q u e  s i e m p r e sigo aprendiendo .  B u s c o  s e g u i r  a u m e n t a n d o  m i  c o n o c i m i e n t o  e n  e s t a s  y  o t r a s  t e c n o l o g í a s  c o n  l a m i s m a  motivación q u e  l a  d e l  p r i n c i p i o ,  p a r a  a s í  l o g r a r  d e s a r r o l l a r  p r o y e c t o s  m á s  g r a n d e s  y  c o m p l e j o s q u e  c u m p l a n  c o n  l a s  n e c e s i d a d e s  d e  m á s  u s u a r i o s . M e  e n c a n t a  ayudar y  e c h a r  u n  c a b l e  s i e m p r e  q u e  p u e d o ,  y  m e  g u s t a trabajar en grupo  o  e s t a r  a l f r e n t e  d e  e s t e .  S i e m p r e  i n t e n t o  t e n e r  l a s  i d e a s  y  m i s  objetivos claros  s o b r e  a q u e l l o  q u e  p r e t e n d o c o n s e g u i r ,  p a r a  a f r o n t a r  l o s  r e t o s  c o n  seguridad y firmeza ,  y  t r a b a j a r  h a s t a  c o n s e g u i r  el mejor resultado  p o s i b l e . Julio 2021 Septiembre 2019 Certificados P r u e b a  d e  A c c e s o  a  l a  U n i v e r s i d a d  ( P A U ,  S e l e c t i v i d a d ) T í t u l o  C 1  C a t a l á nJunio 2021 Nota de corte: 1 0 . 1 5 9 Junio 2021B 1 L i d e r a z g o A u t o d i d a c t a T r a b a j o  e n  e q u i p o D e s a r r o l l o  d e  e s t r a t e g i a s S u p e r a c i ó n  y  p e r s e v e r a n c i a C a p a c i d a d e s  a n a l í t i c a s  y r e s o l u c i ó n  d e  p r o b l e m a s C r e a t i v i d a d  y  o b s e r v a c i ó nHabilidadesA n d r o i d  /  K o t l i n J a v a  /  H i b e r n a t e R e a c t  /  N e x t . j s D e s a r r o l l o  c o n  I AD U A L  e n  P a s i o n a Actualmente Junio 2022A d q u i r i e n d o  e x p e r i e n c i a  a p l i c a n d o  m i s  c o n o c i m i e n t o s  a c a d é m i c o s  e n p r o y e c t o s  e m p r e s a r i a l e s  r e a l e s ,  m e j o r é  m i s  h a b i l i d a d e s  d e  c o m u n i c a c i ó n y  t r a b a j o  e n  e q u i p o   P e r s o n a l Actualmente Septiembre 2016C u e n t o  c o n  7  a ñ o s  d e  e x p e r i e n c i a  e n  e l  d e s a r r o l l o  d e  s o f t w a r e  r e a l i z a n d o p r o y e c t o s  p r o p i o s ,  l o s  c u a l e s  a l g u n o s  s e  e n c u e n t r a n  p u b l i c a d o s  e n  m i G i t H u b .\n",
      "Pagina 2:       \n",
      "Pagina 3:       \n",
      "Pagina 4:     \n",
      "Pagina 5: P. MANUEL SILVA FERNÁNDEZ DESARROLLADOR DE APLICACIONES WEB EXTRACTO PROFESIONAL Joven de buena presencia, dinámico, con ganas de aprender y superarse. Capaz de trabajar bien bajo presión y adaptarme a las situaciones. Muy buen manejo de equipos informáticos.   CONOCIMIENTOS INFORMATICOS -Servidores Windows y Linux -Java, javascript y lenguaje de marcas. -Wordpress y  moodle. -Protocolos TCP/IP. -PostgreSQL. -Ofimática. -Hardware. Etc...  DATOS PERSONALES: -Teléfono: 696 05 38 01 -Dirección: Barberá del Valles (Barcelona, 08214) -Correo electrónico: manuel.silva@ibadia.cat. -Fecha nacimiento: 09/10/2003. EXPERIENCIA LABORAL - Soluciones a nivel hardware y software, gestión y uso de base de datos y atención al cliente.Alertaphone (Clínica Fnac), técnico microinformático Diciembre 2020 - Mayo 2021 (Barcelona, Centro Comercial \"El Triangle\") McDonald's, Ayudante de cocina Noviembre 2021 - Actualidad (Barcelona, Centro Comercial \"Baricentro\")ZARA, peón Octubre 2021 - Noviembre 2021 (Barcelona, Centro Comercial de San Cugat) HISTORIAL ACADÉMICO - Graduado con una nota media de 7,70.La Milagrosa (Campillos, Málaga) Educación Secundaria Obligatoria, 2015-2019. - Graduado con una nota media de 8,24. Institut Badia Del Valles (Badia Del Valles, Barcelona) Grado Superior de Desarrollo de Aplicaciones Web, 2021-Actualidad.Institut Badia Del Valles (Badia Del Valles, Barcelona) Grado Medio de Sistemas Microinformáticos y redes, 2019-2021. OTROS DATOS DE INTERÉS -Disponibilidad: Mañanas y noches. -Carnet de conducir Permiso B: Sí. -Vehículo propio: Sí. -Incorporación: Inmediata. -Fines de semana y festivos: Sí. IDIOMAS: -Castellano: Nativo -Catalán: Intermedio -Inglés: Intermedio \n",
      "Pagina 6: Arnau Fugarolas Barbena          Dirección: Mataró, España  Dirección de correo electrónico: arnau.fugarolas@mataro.epiaedu.cat   Número de teléfono: (+34) 675047857 Sitio web: https://github.com/arnaufugarolas  EXPERIENCIA LABORAL   [ 01/09/2022 – Actual ]  Desarrollador en prácticas  Travelport https://www.travelport.com   Población: Barcelona  País: España  Principales actividades y responsabilidades:  Desarrollo en JavaScript Vanilla (TDD) Creación de tests con Cucumber y Playwright [ 31/05/2022 – 15/07/2022 ]  Prácticas Erasmus  Friesland College https://www.frieslandcollege.nl   Población: Leeuwarden  País: Países Bajos  Principales actividades y responsabilidades:  Programación con JavaScript y JQuery Migración de Bootstrap 3 a Bootstrap 4 Documentar código [ 07/06/2021 – 07/07/2021 ]  Prácticas Erasmus  Dorwij Nerda sp. z o.o. https://dorwijnerda.pl   Población: Mikołów  País: Polonia  Principales actividades y responsabilidades:  Traduccion de paginas web con wordpress [ 08/02/2021 – 04/06/2021 ]  HelpDesk IT (prácticas)  United Barcode Systems https://www.ubscode.es   Población: Vilassar de Mar  País: España  Principales actividades y responsabilidades:  Mantenimiento de equipos. Montaje de periféricos. Resolución de problemas. Soporte remoto. Gestión del inventario de los equipos y periféricos. Creación y gestión de una base de datos con Microsoft Access. Programación de macros con VisualBasic. Elaboración de documentación varía.◦  ◦  ◦  ◦  ◦  ◦  ◦  ◦  ◦  ◦  ◦  ◦  ◦  ◦  1 / 2\n",
      "Pagina 7: inglés  COMPRENSIÓN AUDITIVA B1 COMPRENSIÓN LECTORA B2 EXPRESIÓN ESCRITA B1  PRODUCCIÓN ORAL B1 INTERACCIÓN ORAL B1 EDUCACIÓN Y FORMA‐ CIÓN   [ 13/09/2021 – Actual ]  Técnico Superior en Desarrollo de Aplicaciones Multiplataforma  Escola Pia Santa Anna Mataró   Nivel en el MEC: Nivel 5 EQF-MEC  [ 12/09/2019 – 04/06/2021 ]  Técnico en Sistemas Microinformáticos y Redes  Escola Pia Santa Anna Mataró   Caliﬁcación ﬁnal: 8.20/10   Nivel en el MEC: Nivel 4 EQF-MEC  COMPETENCIAS DE IDIOMAS   Lengua(s) materna(s): catalán, español  Otro(s) idioma(s):  ERASMUS +   [ 30/05/2022 – 30/07/2022 ]  Países Bajos   Erasmus de dos meses de duración, donde estuve en una escuela llamada Friesland College desarrollando una aplicación propia que consiste en un \"Duolingo\" pero hecho a medida. [ 07/06/2021 – 09/07/2021 ]  Polònia   Erasmus de un mes de duración, donde estuve de becario en una empresa polaca llamada Dorwij Nerda sp. z o.o que es una consultora que recluta i forma programadores para diferentes empressas, además de llevar proyectos de desarrollo. COMPETENCIAS DIGI‐ TALES   Mis capacidades digitales  Lenguajes de programación Kotlin | PHP | JavaScript | Java | SQL | NO-SQL | C# | Python | HTML & CSS  Frameworks Laravel | Bootstrap 4 | JQuery | Firebase | Android | NodeJS  Conocimientos generales en el mundo de la informática Git | GitHub | JSON | GitLab | XML | Linux | Docker  2 / 2\n",
      "Pagina 8: C O M P E T E N C I A S T I C Java C++ / C# Oracle SQL XML Microsoft OfficeConocimientos medios en: Conocimientos avanzados en:albertpinedabas@gmail.com 665 37 51 40 C/ Victoria 77, Sant Boi de Llobregat, CP 08830 2021 - ActualidadE D U C A C I Ó N C I C L O  F O R M A T I V O  D E  G R A D O  S U P E R I O R  E N D E S A R R O L L O  D E  A P L I C A C I O N E S  M U L T I P L A T A F O R M A Catalán: Nivel alto (Lengua materna) Castellano: Nivel alto (Lengua materna) Inglés: Nivel medio         (B1 / B2)2019 - 2021  B A C H I L L E R A T O  T E C N O L Ó G I C O I D I O M A SConsidero que ante todo soy una persona constante, que tiene facilidad marcándose objetivos y obteniéndolos. Soy creativo ante la resolución de cualquier problema, pero también puedo escuchar y amoldarme a cualquier plan. Ante todo, soy perseverante, metódico, autónomo, responsable y confiable.Poner en práctica mis estudios obtenidos en el campo de la programación, mejorar al máximo mis capacidades y obtener la experiencia conveniente en el ambiente de trabajo.O B J E T I V O L A B O R A LA l b e r t  P i n e d a B a s a l o b r e E s c u e l a  P r o f e s i o n a l  S a l e s i a n a  d e  S a r r i a ,  B a r c e l o n a I n s t i t u t o  d e  S a l e s i a n o s ,  S a n t  V i c e n ç  d e l s  H o r t s   C O M P E T E N C I A S  P E R S O N A L E S Conocimientos en el ámbito de desarrollo de aplicaciones, en lenguajes de programación, en acceso y modificación de datos y en entornos de desarrollo.  Gestionar bases de datos, interpretar el diseño lógico de estas, consultar y modificar datos. Desarrollar aplicaciones multiplataforma con acceso de datos utilizando lenguajes, librerías y entornos adecuadas a su especificación. Configurar y explotar sistemas informáticos, montar circuitos lógicos entre máquinas y cumplir las necesidades establecidas de uso.C O M P E T E N C I A S  T É C N I C A S\n",
      "Pagina 9:     Contact david.ss0313@gmail.com www.linkedin.com/in/david- salcedo-salamanca  (LinkedIn) github.com/david03130  (Personal) Top Skills C# JavaScript React.js Languages Inglés  (Full Professional) Español  (Native or Bilingual) Catalán  (Native or Bilingual) Certifications Microsoft Azure Fundamentals C1 Advanced Certificate in EnglishDavid Salcedo Salamanca Full Stack Developer Trainee | C#, JavaScript Barcelona, Catalonia, Spain Summary I am a Full Stack Developer who is striving to develop well organized and optimized software. I have been studying programming for almost two years now, and I have loved everything that we have done. Creating programs to supply a client's needs has been really entertaining, and I can't wait to keep learning more so that the programs that I develop keep getting better and better. I have mostly done backend projects with C#. I have worked with the .NET Framework and Visual Studio 2019 and 2022. I have also worked with Entity Framework and SQL Server. Furthermore, I have also started doing a lot more FrontEnd projects in JavaScript with React. Experience Pasiona Full Stack Developer Trainee June 2022 - Present  (11 months) Barcelona, Cataluña, España Education Salesians Sarrià Multiplatform App Development, Computer Programming/Programmer, General  · (October 2021 - May 2023) Salesians Sarrià Microcomputer systems and networks, Computer Systems Networking and Telecommunications  · (September 2019 - May 2021)   Page 1 of 1\n",
      "Pagina 10: ABOUT ME I'm an energetic person with a strong desire to learn.   WORK EXPERIENCE Web developers  Digitale Werkplaats Fryslân [ 18/05/2022 – 20/07/2022 ]  City: Leeuwarden  Country: Netherlands  I communicated directly with clients in English to create their web pages using HTML/CSS/JS and Bootstrap. Additionally, I scheduled meetings with clients to ensure they were satisﬁed with the progress of their web page. Trainee  Pasiona [ 21/07/2022 – Current ]  City: Barcelona  Country: Spain  Creating projects related to artiﬁcial intelligence, learning to train models, with experience in backend development using Node.js/Python and frontend development using Next.js, I studied on the company : C#, HTML, CSS, JS, React, Java and Maui EDUCATION AND TRAINING Higher Technician in Multi-platform Applications Development  Escola pia mataro  [ 10/09/2021 – Current ]  Address: Carrer de Sant Agustí, 59, 08301 Mataaró (Spain)  LANGUAGE SKILLS  Mother tongue(s): Spanish | Catalan  Ismael El Hassouni El Fhayel  Nationality: Spanish  Date of birth: 05/03/2003  Gender: Male           Phone number: (+34) 613515224 Email address: issmaelhassouni@gmail.com   Whatsapp Messenger: 612525518  Home: Enrique Granados, 43 3-3, 08330 Premia De Mar (Spain) \n",
      "Pagina 11: Other language(s):  English  LISTENING C1  READING C1  WRITING C1   SPOKEN PRODUCTION C1   SPOKEN INTERACTION C1   DIGITAL SKILLS  Kotlin /  Java /  C# /  Maui /  HTML /  CSS /  JS /  React /  Node /  Python /  SQL  HONOURS AND AWARDS  NTT DATA Talent Award 2022-2023  NTT DATA [ 14/11/2022  ]  This award was given to me based on my qualiﬁcations, proﬁle, and skills. Link: https://mataro.escolapia.cat/2022/11/18/ismael-el-hassouni-guanyador-del-premi-talent-dntt- data/  \n"
     ]
    }
   ],
   "source": [
    "for i in range(len(data)):\n",
    "    print(f\"Pagina {i + 1}: \" + str(data[i].page_content.replace('\\n', ' ')))"
   ]
  },
  {
   "cell_type": "code",
   "execution_count": 39,
   "metadata": {},
   "outputs": [],
   "source": [
    "#divide los textos en chunks segun el chunk_size\n",
    "text_splitter = RecursiveCharacterTextSplitter(chunk_size=1000, chunk_overlap=0)\n",
    "texts = text_splitter.split_documents(data)"
   ]
  },
  {
   "cell_type": "code",
   "execution_count": 40,
   "metadata": {},
   "outputs": [
    {
     "name": "stdout",
     "output_type": "stream",
     "text": [
      "Tienes 18 documentos\n"
     ]
    }
   ],
   "source": [
    "print (f'Tienes {len(texts)} documentos')"
   ]
  },
  {
   "cell_type": "code",
   "execution_count": 41,
   "metadata": {},
   "outputs": [],
   "source": [
    "from langchain.vectorstores import Chroma, Pinecone\n",
    "from langchain.embeddings.openai import OpenAIEmbeddings\n",
    "import pinecone"
   ]
  },
  {
   "cell_type": "code",
   "execution_count": 8,
   "metadata": {},
   "outputs": [],
   "source": [
    "PINECONE_API_KEY = 'fbb7ad14-46bd-4ebf-af06-6dfc5efb8c15'\n",
    "PINECONE_API_ENV = 'asia-southeast1-gcp'"
   ]
  },
  {
   "cell_type": "code",
   "execution_count": null,
   "metadata": {},
   "outputs": [],
   "source": [
    "#import openai\n",
    "\n",
    "#openai.api_type = \"azure\"\n",
    "#openai.api_key = \"68c1cf8e9d5d4a368f57bed9b9a6cc4b\"\n",
    "#openai.api_base = \"https://openaipasionaus.openai.azure.com/\"\n",
    "#openai.api_version = \"2022-12-01\"\n",
    "\n",
    "#response = openai.Embedding.create(\n",
    "#    input=\"Quien tiene mas experiencia?\",\n",
    "#    engine=\"textEmbeddingAda002\"\n",
    "#)\n",
    "#embeddings = response['data'][0]['embedding']"
   ]
  },
  {
   "cell_type": "code",
   "execution_count": 48,
   "metadata": {},
   "outputs": [],
   "source": [
    "#embeddings = OpenAIEmbeddings(openai_api_key=OPENAI_API_KEY)\n",
    "\n",
    "#Embedding = lenguaje natural que convierte el lenguaje humano a vectores matemático\n",
    "\n",
    "#https://python.langchain.com/en/latest/reference/modules/embeddings.html\n",
    "import os\n",
    "os.environ[\"OPENAI_API_TYPE\"]  = 'azure'\n",
    "os.environ[\"OPENAI_API_BASE\"] = 'https://openaipasionaus.openai.azure.com/'\n",
    "os.environ[\"OPENAI_API_KEY\"] = '9cae1236e81e43138b8895ead77acb12'\n",
    "\n",
    "embeddings = OpenAIEmbeddings(model=\"text-embedding-ada-002\", chunk_size=1)"
   ]
  },
  {
   "cell_type": "code",
   "execution_count": 49,
   "metadata": {},
   "outputs": [],
   "source": [
    "#Pinecone = base de datos de Vectores\n",
    "\n",
    "pinecone.init(\n",
    "    api_key=PINECONE_API_KEY,  # find at app.pinecone.io\n",
    "    environment=PINECONE_API_ENV  # next to api key in console\n",
    ")\n",
    "index_name = \"langchain2\""
   ]
  },
  {
   "cell_type": "code",
   "execution_count": 50,
   "metadata": {},
   "outputs": [],
   "source": [
    "docsearch = Pinecone.from_texts([t.page_content for t in texts], embeddings, index_name=index_name)\n",
    "\n",
    "#From_texts = Embendding a los documentos y añade los documentos al indice proveido (langchain2)"
   ]
  },
  {
   "cell_type": "code",
   "execution_count": 51,
   "metadata": {},
   "outputs": [],
   "source": [
    "from langchain.llms import OpenAI\n",
    "from langchain.chains.question_answering import load_qa_chain"
   ]
  },
  {
   "cell_type": "code",
   "execution_count": 52,
   "metadata": {},
   "outputs": [
    {
     "name": "stdout",
     "output_type": "stream",
     "text": [
      "USING API_BASE: \n",
      "https://openaipasionaus.openai.azure.com/\n"
     ]
    }
   ],
   "source": [
    "import os\n",
    "import openai\n",
    "from langchain.llms import AzureOpenAI\n",
    "from llama_index import LangchainEmbedding\n",
    "from llama_index import GPTSimpleVectorIndex, SimpleDirectoryReader, LLMPredictor, PromptHelper\n",
    "\n",
    "#os.environ[\"OPENAI_API_TYPE\"]  = 'azure'\n",
    "#os.environ[\"OPENAI_API_VERSION\"]  = '2023-03-15-preview'\n",
    "#os.environ[\"OPENAI_API_BASE\"] = 'https://openaipasionaus.openai.azure.com/'\n",
    "#os.environ[\"OPENAI_API_KEY\"] = '9cae1236e81e43138b8895ead77acb12'\n",
    "\n",
    "openai.api_type = \"azure\"\n",
    "openai.api_version = \"2023-03-15-preview\" \n",
    "openai.api_base = 'https://openaipasionaus.openai.azure.com/' # Your Azure OpenAI resource's endpoint value.\n",
    "openai.api_key = '9cae1236e81e43138b8895ead77acb12'\n",
    "\n",
    "llm = AzureOpenAI(deployment_name=\"textDavinci03Model\")\n",
    "llm_predictor = LLMPredictor(llm=llm)\n",
    "\n",
    "#llm = OpenAI(temperature=0, model=\"textDavinci03Model\")\n",
    "chain = load_qa_chain(llm, chain_type=\"stuff\")\n",
    "\n",
    "#Apuntes\n",
    "\n",
    "# LLM es un tipo de modelo de inteligencia artificial (IA) que se utiliza para realizar tareas relacionadas con el procesamiento del lenguaje natural. \n",
    "# Los LLM suelen estar entrenados con grandes cantidades de texto y pueden ser utilizados para comprender y responder a consultas escritas en un idioma determinado.\n",
    "#chain_type = stufff , carga una cadena que no pertenece a una categoria o tema especifico"
   ]
  },
  {
   "cell_type": "code",
   "execution_count": 78,
   "metadata": {},
   "outputs": [],
   "source": [
    "query = \"Dime 2 personas con experiencia en c#\"\n",
    "docs = docsearch.similarity_search(query, include_metadata=True)\n",
    "\n",
    "#busca en el documento por similaridad de la query"
   ]
  },
  {
   "cell_type": "code",
   "execution_count": 79,
   "metadata": {},
   "outputs": [
    {
     "data": {
      "text/plain": [
       "' David Salcedo Salamanca y Microsoft Azure Fundamentals.'"
      ]
     },
     "execution_count": 79,
     "metadata": {},
     "output_type": "execute_result"
    }
   ],
   "source": [
    "chain.run(input_documents=docs, question=query)"
   ]
  }
 ],
 "metadata": {
  "kernelspec": {
   "display_name": "Python 3",
   "language": "python",
   "name": "python3"
  },
  "language_info": {
   "codemirror_mode": {
    "name": "ipython",
    "version": 3
   },
   "file_extension": ".py",
   "mimetype": "text/x-python",
   "name": "python",
   "nbconvert_exporter": "python",
   "pygments_lexer": "ipython3",
   "version": "3.10.11"
  },
  "orig_nbformat": 4
 },
 "nbformat": 4,
 "nbformat_minor": 2
}
